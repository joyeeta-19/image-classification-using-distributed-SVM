{
  "nbformat": 4,
  "nbformat_minor": 0,
  "metadata": {
    "colab": {
      "name": "Image Classification using simple svm.ipynb",
      "provenance": [],
      "authorship_tag": "ABX9TyPYJq07hrCpCVu/tlpD3vuC",
      "include_colab_link": true
    },
    "kernelspec": {
      "name": "python3",
      "display_name": "Python 3"
    },
    "language_info": {
      "name": "python"
    }
  },
  "cells": [
    {
      "cell_type": "markdown",
      "metadata": {
        "id": "view-in-github",
        "colab_type": "text"
      },
      "source": [
        "<a href=\"https://colab.research.google.com/github/joyeeta-19/image-classification-using-distributed-SVM/blob/main/Image_Classification_using_simple_svm.ipynb\" target=\"_parent\"><img src=\"https://colab.research.google.com/assets/colab-badge.svg\" alt=\"Open In Colab\"/></a>"
      ]
    },
    {
      "cell_type": "code",
      "metadata": {
        "id": "5rNXzooSnaQH",
        "colab": {
          "base_uri": "https://localhost:8080/"
        },
        "outputId": "820f0a54-1975-48a1-c9d1-2f9dd2ff72cb"
      },
      "source": [
        "from google.colab import drive\n",
        "drive.mount('/content/drive')"
      ],
      "execution_count": 1,
      "outputs": [
        {
          "output_type": "stream",
          "text": [
            "Go to this URL in a browser: https://accounts.google.com/o/oauth2/auth?client_id=947318989803-6bn6qk8qdgf4n4g3pfee6491hc0brc4i.apps.googleusercontent.com&redirect_uri=urn%3aietf%3awg%3aoauth%3a2.0%3aoob&scope=email%20https%3a%2f%2fwww.googleapis.com%2fauth%2fdocs.test%20https%3a%2f%2fwww.googleapis.com%2fauth%2fdrive%20https%3a%2f%2fwww.googleapis.com%2fauth%2fdrive.photos.readonly%20https%3a%2f%2fwww.googleapis.com%2fauth%2fpeopleapi.readonly%20https%3a%2f%2fwww.googleapis.com%2fauth%2fdrive.activity.readonly%20https%3a%2f%2fwww.googleapis.com%2fauth%2fexperimentsandconfigs%20https%3a%2f%2fwww.googleapis.com%2fauth%2fphotos.native&response_type=code\n",
            "\n",
            "Enter your authorization code:\n",
            "4/1AY0e-g5nfXPELSsa1kzEei1pZc7xp4a20Cvaa4-a9aUHk8oicU_k-GgevOw\n",
            "Mounted at /content/drive\n"
          ],
          "name": "stdout"
        }
      ]
    },
    {
      "cell_type": "markdown",
      "metadata": {
        "id": "Siz8mc-lnbI4"
      },
      "source": [
        "#inserting the data"
      ]
    },
    {
      "cell_type": "code",
      "metadata": {
        "id": "fBn3FPs5ndl3"
      },
      "source": [
        "import os\n",
        "import numpy as np\n",
        "import cv2\n",
        "import pandas as pd\n",
        "import matplotlib.pyplot as plt"
      ],
      "execution_count": 2,
      "outputs": []
    },
    {
      "cell_type": "code",
      "metadata": {
        "colab": {
          "base_uri": "https://localhost:8080/"
        },
        "id": "CWd-55L8ntIi",
        "outputId": "eefb0ceb-b7ef-40ef-d481-8721fa4b9b5b"
      },
      "source": [
        "dir = \"/content/drive/MyDrive/lsdp/damage/data1a/training\"\n",
        "classes = ['damage','nodamage']\n",
        "data = []\n",
        "vector =[]\n",
        "categories=[]\n",
        "\n",
        "for category in classes:\n",
        "  path = os.path.join(dir,category)\n",
        "  label= classes.index(category)\n",
        "  \n",
        "  for img in os.listdir(path):\n",
        "    imgpath = os.path.join(path,img)\n",
        "    car_img=cv2.imread(imgpath,0)\n",
        "    try:\n",
        "      car_img = cv2.resize(car_img,(16,16))\n",
        "      image = np.array(car_img).flatten()\n",
        "\n",
        "      data.append([image,label])\n",
        "      vector.append(image)\n",
        "      categories.append(label)\n",
        "    except Exception as e:\n",
        "      pass\n",
        "\n",
        "print(len(data))"
      ],
      "execution_count": 3,
      "outputs": [
        {
          "output_type": "stream",
          "text": [
            "1840\n"
          ],
          "name": "stdout"
        }
      ]
    },
    {
      "cell_type": "code",
      "metadata": {
        "id": "NBVi4y8DnwhQ",
        "colab": {
          "base_uri": "https://localhost:8080/",
          "height": 255
        },
        "outputId": "02cb07bf-6dd7-4c9f-e881-191f52ae9913"
      },
      "source": [
        "# df_read = pd.read_csv('/content/drive/MyDrive/lsdp_dataset/imgvectors.csv')\n",
        "# df_read.head()\n",
        "\n",
        "\n",
        "df = pd.DataFrame()\n",
        "\n",
        "for i in range(len(vector)):\n",
        "  df[i]=vector[i]\n",
        "\n",
        "df_final=df.T\n",
        "\n",
        "df_final.insert(0, 'label', categories)\n",
        "df_final.head()\n",
        "#df.to_csv('/content/drive/MyDrive/lsdp_dataset/imgvectors_final.csv')"
      ],
      "execution_count": 8,
      "outputs": [
        {
          "output_type": "execute_result",
          "data": {
            "text/html": [
              "<div>\n",
              "<style scoped>\n",
              "    .dataframe tbody tr th:only-of-type {\n",
              "        vertical-align: middle;\n",
              "    }\n",
              "\n",
              "    .dataframe tbody tr th {\n",
              "        vertical-align: top;\n",
              "    }\n",
              "\n",
              "    .dataframe thead th {\n",
              "        text-align: right;\n",
              "    }\n",
              "</style>\n",
              "<table border=\"1\" class=\"dataframe\">\n",
              "  <thead>\n",
              "    <tr style=\"text-align: right;\">\n",
              "      <th></th>\n",
              "      <th>label</th>\n",
              "      <th>0</th>\n",
              "      <th>1</th>\n",
              "      <th>2</th>\n",
              "      <th>3</th>\n",
              "      <th>4</th>\n",
              "      <th>5</th>\n",
              "      <th>6</th>\n",
              "      <th>7</th>\n",
              "      <th>8</th>\n",
              "      <th>9</th>\n",
              "      <th>10</th>\n",
              "      <th>11</th>\n",
              "      <th>12</th>\n",
              "      <th>13</th>\n",
              "      <th>14</th>\n",
              "      <th>15</th>\n",
              "      <th>16</th>\n",
              "      <th>17</th>\n",
              "      <th>18</th>\n",
              "      <th>19</th>\n",
              "      <th>20</th>\n",
              "      <th>21</th>\n",
              "      <th>22</th>\n",
              "      <th>23</th>\n",
              "      <th>24</th>\n",
              "      <th>25</th>\n",
              "      <th>26</th>\n",
              "      <th>27</th>\n",
              "      <th>28</th>\n",
              "      <th>29</th>\n",
              "      <th>30</th>\n",
              "      <th>31</th>\n",
              "      <th>32</th>\n",
              "      <th>33</th>\n",
              "      <th>34</th>\n",
              "      <th>35</th>\n",
              "      <th>36</th>\n",
              "      <th>37</th>\n",
              "      <th>38</th>\n",
              "      <th>...</th>\n",
              "      <th>216</th>\n",
              "      <th>217</th>\n",
              "      <th>218</th>\n",
              "      <th>219</th>\n",
              "      <th>220</th>\n",
              "      <th>221</th>\n",
              "      <th>222</th>\n",
              "      <th>223</th>\n",
              "      <th>224</th>\n",
              "      <th>225</th>\n",
              "      <th>226</th>\n",
              "      <th>227</th>\n",
              "      <th>228</th>\n",
              "      <th>229</th>\n",
              "      <th>230</th>\n",
              "      <th>231</th>\n",
              "      <th>232</th>\n",
              "      <th>233</th>\n",
              "      <th>234</th>\n",
              "      <th>235</th>\n",
              "      <th>236</th>\n",
              "      <th>237</th>\n",
              "      <th>238</th>\n",
              "      <th>239</th>\n",
              "      <th>240</th>\n",
              "      <th>241</th>\n",
              "      <th>242</th>\n",
              "      <th>243</th>\n",
              "      <th>244</th>\n",
              "      <th>245</th>\n",
              "      <th>246</th>\n",
              "      <th>247</th>\n",
              "      <th>248</th>\n",
              "      <th>249</th>\n",
              "      <th>250</th>\n",
              "      <th>251</th>\n",
              "      <th>252</th>\n",
              "      <th>253</th>\n",
              "      <th>254</th>\n",
              "      <th>255</th>\n",
              "    </tr>\n",
              "  </thead>\n",
              "  <tbody>\n",
              "    <tr>\n",
              "      <th>0</th>\n",
              "      <td>0</td>\n",
              "      <td>242</td>\n",
              "      <td>248</td>\n",
              "      <td>212</td>\n",
              "      <td>243</td>\n",
              "      <td>172</td>\n",
              "      <td>226</td>\n",
              "      <td>213</td>\n",
              "      <td>225</td>\n",
              "      <td>219</td>\n",
              "      <td>210</td>\n",
              "      <td>176</td>\n",
              "      <td>143</td>\n",
              "      <td>116</td>\n",
              "      <td>79</td>\n",
              "      <td>123</td>\n",
              "      <td>235</td>\n",
              "      <td>242</td>\n",
              "      <td>244</td>\n",
              "      <td>252</td>\n",
              "      <td>248</td>\n",
              "      <td>228</td>\n",
              "      <td>233</td>\n",
              "      <td>224</td>\n",
              "      <td>134</td>\n",
              "      <td>184</td>\n",
              "      <td>215</td>\n",
              "      <td>117</td>\n",
              "      <td>174</td>\n",
              "      <td>149</td>\n",
              "      <td>121</td>\n",
              "      <td>82</td>\n",
              "      <td>157</td>\n",
              "      <td>243</td>\n",
              "      <td>248</td>\n",
              "      <td>250</td>\n",
              "      <td>246</td>\n",
              "      <td>238</td>\n",
              "      <td>234</td>\n",
              "      <td>231</td>\n",
              "      <td>...</td>\n",
              "      <td>70</td>\n",
              "      <td>77</td>\n",
              "      <td>91</td>\n",
              "      <td>107</td>\n",
              "      <td>112</td>\n",
              "      <td>120</td>\n",
              "      <td>124</td>\n",
              "      <td>159</td>\n",
              "      <td>90</td>\n",
              "      <td>84</td>\n",
              "      <td>85</td>\n",
              "      <td>86</td>\n",
              "      <td>81</td>\n",
              "      <td>85</td>\n",
              "      <td>88</td>\n",
              "      <td>94</td>\n",
              "      <td>93</td>\n",
              "      <td>95</td>\n",
              "      <td>90</td>\n",
              "      <td>98</td>\n",
              "      <td>107</td>\n",
              "      <td>121</td>\n",
              "      <td>142</td>\n",
              "      <td>132</td>\n",
              "      <td>121</td>\n",
              "      <td>97</td>\n",
              "      <td>94</td>\n",
              "      <td>94</td>\n",
              "      <td>96</td>\n",
              "      <td>98</td>\n",
              "      <td>99</td>\n",
              "      <td>92</td>\n",
              "      <td>105</td>\n",
              "      <td>110</td>\n",
              "      <td>105</td>\n",
              "      <td>106</td>\n",
              "      <td>117</td>\n",
              "      <td>119</td>\n",
              "      <td>123</td>\n",
              "      <td>129</td>\n",
              "    </tr>\n",
              "    <tr>\n",
              "      <th>1</th>\n",
              "      <td>0</td>\n",
              "      <td>154</td>\n",
              "      <td>212</td>\n",
              "      <td>111</td>\n",
              "      <td>71</td>\n",
              "      <td>97</td>\n",
              "      <td>65</td>\n",
              "      <td>136</td>\n",
              "      <td>73</td>\n",
              "      <td>77</td>\n",
              "      <td>76</td>\n",
              "      <td>68</td>\n",
              "      <td>70</td>\n",
              "      <td>249</td>\n",
              "      <td>251</td>\n",
              "      <td>251</td>\n",
              "      <td>251</td>\n",
              "      <td>79</td>\n",
              "      <td>74</td>\n",
              "      <td>66</td>\n",
              "      <td>59</td>\n",
              "      <td>36</td>\n",
              "      <td>104</td>\n",
              "      <td>122</td>\n",
              "      <td>73</td>\n",
              "      <td>76</td>\n",
              "      <td>76</td>\n",
              "      <td>70</td>\n",
              "      <td>62</td>\n",
              "      <td>63</td>\n",
              "      <td>223</td>\n",
              "      <td>151</td>\n",
              "      <td>198</td>\n",
              "      <td>85</td>\n",
              "      <td>99</td>\n",
              "      <td>87</td>\n",
              "      <td>97</td>\n",
              "      <td>70</td>\n",
              "      <td>94</td>\n",
              "      <td>49</td>\n",
              "      <td>...</td>\n",
              "      <td>85</td>\n",
              "      <td>40</td>\n",
              "      <td>3</td>\n",
              "      <td>110</td>\n",
              "      <td>133</td>\n",
              "      <td>123</td>\n",
              "      <td>144</td>\n",
              "      <td>153</td>\n",
              "      <td>97</td>\n",
              "      <td>111</td>\n",
              "      <td>94</td>\n",
              "      <td>111</td>\n",
              "      <td>100</td>\n",
              "      <td>123</td>\n",
              "      <td>114</td>\n",
              "      <td>120</td>\n",
              "      <td>119</td>\n",
              "      <td>120</td>\n",
              "      <td>118</td>\n",
              "      <td>132</td>\n",
              "      <td>141</td>\n",
              "      <td>126</td>\n",
              "      <td>141</td>\n",
              "      <td>145</td>\n",
              "      <td>160</td>\n",
              "      <td>150</td>\n",
              "      <td>124</td>\n",
              "      <td>118</td>\n",
              "      <td>113</td>\n",
              "      <td>112</td>\n",
              "      <td>121</td>\n",
              "      <td>99</td>\n",
              "      <td>121</td>\n",
              "      <td>116</td>\n",
              "      <td>119</td>\n",
              "      <td>128</td>\n",
              "      <td>123</td>\n",
              "      <td>134</td>\n",
              "      <td>130</td>\n",
              "      <td>121</td>\n",
              "    </tr>\n",
              "    <tr>\n",
              "      <th>2</th>\n",
              "      <td>0</td>\n",
              "      <td>174</td>\n",
              "      <td>72</td>\n",
              "      <td>200</td>\n",
              "      <td>197</td>\n",
              "      <td>198</td>\n",
              "      <td>139</td>\n",
              "      <td>137</td>\n",
              "      <td>132</td>\n",
              "      <td>127</td>\n",
              "      <td>103</td>\n",
              "      <td>126</td>\n",
              "      <td>133</td>\n",
              "      <td>132</td>\n",
              "      <td>220</td>\n",
              "      <td>212</td>\n",
              "      <td>110</td>\n",
              "      <td>122</td>\n",
              "      <td>160</td>\n",
              "      <td>197</td>\n",
              "      <td>193</td>\n",
              "      <td>205</td>\n",
              "      <td>218</td>\n",
              "      <td>141</td>\n",
              "      <td>120</td>\n",
              "      <td>107</td>\n",
              "      <td>92</td>\n",
              "      <td>122</td>\n",
              "      <td>132</td>\n",
              "      <td>120</td>\n",
              "      <td>95</td>\n",
              "      <td>209</td>\n",
              "      <td>212</td>\n",
              "      <td>169</td>\n",
              "      <td>144</td>\n",
              "      <td>188</td>\n",
              "      <td>173</td>\n",
              "      <td>199</td>\n",
              "      <td>207</td>\n",
              "      <td>207</td>\n",
              "      <td>...</td>\n",
              "      <td>101</td>\n",
              "      <td>94</td>\n",
              "      <td>90</td>\n",
              "      <td>89</td>\n",
              "      <td>90</td>\n",
              "      <td>87</td>\n",
              "      <td>127</td>\n",
              "      <td>50</td>\n",
              "      <td>92</td>\n",
              "      <td>84</td>\n",
              "      <td>91</td>\n",
              "      <td>29</td>\n",
              "      <td>25</td>\n",
              "      <td>30</td>\n",
              "      <td>35</td>\n",
              "      <td>51</td>\n",
              "      <td>86</td>\n",
              "      <td>91</td>\n",
              "      <td>83</td>\n",
              "      <td>77</td>\n",
              "      <td>76</td>\n",
              "      <td>36</td>\n",
              "      <td>45</td>\n",
              "      <td>54</td>\n",
              "      <td>96</td>\n",
              "      <td>91</td>\n",
              "      <td>59</td>\n",
              "      <td>59</td>\n",
              "      <td>57</td>\n",
              "      <td>41</td>\n",
              "      <td>42</td>\n",
              "      <td>36</td>\n",
              "      <td>29</td>\n",
              "      <td>30</td>\n",
              "      <td>33</td>\n",
              "      <td>35</td>\n",
              "      <td>39</td>\n",
              "      <td>44</td>\n",
              "      <td>53</td>\n",
              "      <td>59</td>\n",
              "    </tr>\n",
              "    <tr>\n",
              "      <th>3</th>\n",
              "      <td>0</td>\n",
              "      <td>220</td>\n",
              "      <td>216</td>\n",
              "      <td>250</td>\n",
              "      <td>254</td>\n",
              "      <td>177</td>\n",
              "      <td>169</td>\n",
              "      <td>237</td>\n",
              "      <td>236</td>\n",
              "      <td>243</td>\n",
              "      <td>242</td>\n",
              "      <td>101</td>\n",
              "      <td>120</td>\n",
              "      <td>134</td>\n",
              "      <td>83</td>\n",
              "      <td>64</td>\n",
              "      <td>102</td>\n",
              "      <td>250</td>\n",
              "      <td>224</td>\n",
              "      <td>231</td>\n",
              "      <td>132</td>\n",
              "      <td>148</td>\n",
              "      <td>182</td>\n",
              "      <td>151</td>\n",
              "      <td>129</td>\n",
              "      <td>172</td>\n",
              "      <td>221</td>\n",
              "      <td>218</td>\n",
              "      <td>197</td>\n",
              "      <td>220</td>\n",
              "      <td>105</td>\n",
              "      <td>158</td>\n",
              "      <td>73</td>\n",
              "      <td>235</td>\n",
              "      <td>156</td>\n",
              "      <td>128</td>\n",
              "      <td>136</td>\n",
              "      <td>112</td>\n",
              "      <td>111</td>\n",
              "      <td>113</td>\n",
              "      <td>...</td>\n",
              "      <td>87</td>\n",
              "      <td>89</td>\n",
              "      <td>91</td>\n",
              "      <td>122</td>\n",
              "      <td>93</td>\n",
              "      <td>117</td>\n",
              "      <td>95</td>\n",
              "      <td>59</td>\n",
              "      <td>43</td>\n",
              "      <td>50</td>\n",
              "      <td>89</td>\n",
              "      <td>140</td>\n",
              "      <td>106</td>\n",
              "      <td>71</td>\n",
              "      <td>72</td>\n",
              "      <td>77</td>\n",
              "      <td>81</td>\n",
              "      <td>86</td>\n",
              "      <td>93</td>\n",
              "      <td>93</td>\n",
              "      <td>107</td>\n",
              "      <td>50</td>\n",
              "      <td>44</td>\n",
              "      <td>55</td>\n",
              "      <td>53</td>\n",
              "      <td>54</td>\n",
              "      <td>70</td>\n",
              "      <td>73</td>\n",
              "      <td>79</td>\n",
              "      <td>71</td>\n",
              "      <td>97</td>\n",
              "      <td>78</td>\n",
              "      <td>85</td>\n",
              "      <td>87</td>\n",
              "      <td>91</td>\n",
              "      <td>96</td>\n",
              "      <td>40</td>\n",
              "      <td>32</td>\n",
              "      <td>37</td>\n",
              "      <td>45</td>\n",
              "    </tr>\n",
              "    <tr>\n",
              "      <th>4</th>\n",
              "      <td>0</td>\n",
              "      <td>35</td>\n",
              "      <td>48</td>\n",
              "      <td>61</td>\n",
              "      <td>28</td>\n",
              "      <td>78</td>\n",
              "      <td>72</td>\n",
              "      <td>58</td>\n",
              "      <td>104</td>\n",
              "      <td>23</td>\n",
              "      <td>12</td>\n",
              "      <td>46</td>\n",
              "      <td>69</td>\n",
              "      <td>21</td>\n",
              "      <td>41</td>\n",
              "      <td>10</td>\n",
              "      <td>65</td>\n",
              "      <td>60</td>\n",
              "      <td>47</td>\n",
              "      <td>59</td>\n",
              "      <td>53</td>\n",
              "      <td>31</td>\n",
              "      <td>68</td>\n",
              "      <td>30</td>\n",
              "      <td>37</td>\n",
              "      <td>29</td>\n",
              "      <td>33</td>\n",
              "      <td>26</td>\n",
              "      <td>15</td>\n",
              "      <td>28</td>\n",
              "      <td>78</td>\n",
              "      <td>17</td>\n",
              "      <td>27</td>\n",
              "      <td>126</td>\n",
              "      <td>148</td>\n",
              "      <td>165</td>\n",
              "      <td>111</td>\n",
              "      <td>105</td>\n",
              "      <td>110</td>\n",
              "      <td>108</td>\n",
              "      <td>...</td>\n",
              "      <td>194</td>\n",
              "      <td>196</td>\n",
              "      <td>196</td>\n",
              "      <td>196</td>\n",
              "      <td>196</td>\n",
              "      <td>196</td>\n",
              "      <td>198</td>\n",
              "      <td>196</td>\n",
              "      <td>152</td>\n",
              "      <td>145</td>\n",
              "      <td>148</td>\n",
              "      <td>167</td>\n",
              "      <td>188</td>\n",
              "      <td>189</td>\n",
              "      <td>193</td>\n",
              "      <td>194</td>\n",
              "      <td>196</td>\n",
              "      <td>197</td>\n",
              "      <td>197</td>\n",
              "      <td>196</td>\n",
              "      <td>198</td>\n",
              "      <td>198</td>\n",
              "      <td>200</td>\n",
              "      <td>195</td>\n",
              "      <td>158</td>\n",
              "      <td>158</td>\n",
              "      <td>157</td>\n",
              "      <td>146</td>\n",
              "      <td>179</td>\n",
              "      <td>191</td>\n",
              "      <td>200</td>\n",
              "      <td>195</td>\n",
              "      <td>196</td>\n",
              "      <td>198</td>\n",
              "      <td>197</td>\n",
              "      <td>198</td>\n",
              "      <td>201</td>\n",
              "      <td>199</td>\n",
              "      <td>202</td>\n",
              "      <td>201</td>\n",
              "    </tr>\n",
              "  </tbody>\n",
              "</table>\n",
              "<p>5 rows × 257 columns</p>\n",
              "</div>"
            ],
            "text/plain": [
              "   label    0    1    2    3    4    5  ...  249  250  251  252  253  254  255\n",
              "0      0  242  248  212  243  172  226  ...  110  105  106  117  119  123  129\n",
              "1      0  154  212  111   71   97   65  ...  116  119  128  123  134  130  121\n",
              "2      0  174   72  200  197  198  139  ...   30   33   35   39   44   53   59\n",
              "3      0  220  216  250  254  177  169  ...   87   91   96   40   32   37   45\n",
              "4      0   35   48   61   28   78   72  ...  198  197  198  201  199  202  201\n",
              "\n",
              "[5 rows x 257 columns]"
            ]
          },
          "metadata": {
            "tags": []
          },
          "execution_count": 8
        }
      ]
    },
    {
      "cell_type": "markdown",
      "metadata": {
        "id": "aA-CL54rvn23"
      },
      "source": [
        "#reading from csv file"
      ]
    },
    {
      "cell_type": "code",
      "metadata": {
        "colab": {
          "base_uri": "https://localhost:8080/",
          "height": 206
        },
        "id": "isebAh2yn78F",
        "outputId": "0a73d2d2-c94a-49fa-86ae-e9a8192d0dde"
      },
      "source": [
        "df_second = pd.DataFrame()\n",
        "df_second['vectors'] = data\n",
        "#df_second.to_csv('/content/drive/MyDrive/lsdp_dataset/imgvectors_final2.csv')\n",
        "df_second.head()"
      ],
      "execution_count": 10,
      "outputs": [
        {
          "output_type": "execute_result",
          "data": {
            "text/html": [
              "<div>\n",
              "<style scoped>\n",
              "    .dataframe tbody tr th:only-of-type {\n",
              "        vertical-align: middle;\n",
              "    }\n",
              "\n",
              "    .dataframe tbody tr th {\n",
              "        vertical-align: top;\n",
              "    }\n",
              "\n",
              "    .dataframe thead th {\n",
              "        text-align: right;\n",
              "    }\n",
              "</style>\n",
              "<table border=\"1\" class=\"dataframe\">\n",
              "  <thead>\n",
              "    <tr style=\"text-align: right;\">\n",
              "      <th></th>\n",
              "      <th>vectors</th>\n",
              "    </tr>\n",
              "  </thead>\n",
              "  <tbody>\n",
              "    <tr>\n",
              "      <th>0</th>\n",
              "      <td>[[242, 248, 212, 243, 172, 226, 213, 225, 219,...</td>\n",
              "    </tr>\n",
              "    <tr>\n",
              "      <th>1</th>\n",
              "      <td>[[154, 212, 111, 71, 97, 65, 136, 73, 77, 76, ...</td>\n",
              "    </tr>\n",
              "    <tr>\n",
              "      <th>2</th>\n",
              "      <td>[[174, 72, 200, 197, 198, 139, 137, 132, 127, ...</td>\n",
              "    </tr>\n",
              "    <tr>\n",
              "      <th>3</th>\n",
              "      <td>[[220, 216, 250, 254, 177, 169, 237, 236, 243,...</td>\n",
              "    </tr>\n",
              "    <tr>\n",
              "      <th>4</th>\n",
              "      <td>[[35, 48, 61, 28, 78, 72, 58, 104, 23, 12, 46,...</td>\n",
              "    </tr>\n",
              "  </tbody>\n",
              "</table>\n",
              "</div>"
            ],
            "text/plain": [
              "                                             vectors\n",
              "0  [[242, 248, 212, 243, 172, 226, 213, 225, 219,...\n",
              "1  [[154, 212, 111, 71, 97, 65, 136, 73, 77, 76, ...\n",
              "2  [[174, 72, 200, 197, 198, 139, 137, 132, 127, ...\n",
              "3  [[220, 216, 250, 254, 177, 169, 237, 236, 243,...\n",
              "4  [[35, 48, 61, 28, 78, 72, 58, 104, 23, 12, 46,..."
            ]
          },
          "metadata": {
            "tags": []
          },
          "execution_count": 10
        }
      ]
    },
    {
      "cell_type": "markdown",
      "metadata": {
        "id": "IhpUuEZvicxj"
      },
      "source": [
        "# Performing PCA"
      ]
    },
    {
      "cell_type": "code",
      "metadata": {
        "colab": {
          "base_uri": "https://localhost:8080/"
        },
        "id": "AUZG_ZCIiHSe",
        "outputId": "49838372-d280-4bf7-ac31-f1e95b03afc9"
      },
      "source": [
        "from sklearn.preprocessing import StandardScaler\n",
        "from sklearn.decomposition import PCA\n",
        "\n",
        "ft_arr = np.array(output)\n",
        "\n",
        "ft_t=ft_arr.transpose().reshape(3,-1)\n",
        "\n",
        "# ft_t = ft_arr.transpose().reshape(3,-1)\n",
        "print(ft_t.shape)\n",
        "# x = StandardScaler().fit_transform(ft_t)\n",
        "# print(x)\n",
        "# pca = PCA(n_components=2)\n",
        "# pc = pca.fit_transform(x)\n",
        "# pDf = pd.DataFrame(data = pc)\n",
        "# pDf.head()\n"
      ],
      "execution_count": null,
      "outputs": [
        {
          "output_type": "stream",
          "text": [
            "(3, 196608)\n"
          ],
          "name": "stdout"
        }
      ]
    },
    {
      "cell_type": "code",
      "metadata": {
        "id": "VuI1p73zuqJR"
      },
      "source": [
        "import random\n",
        "\n",
        "dataread = df_second['vectors']\n",
        "\n",
        "random.shuffle(dataread)\n",
        "features = []\n",
        "labels = []\n",
        "\n",
        "\n",
        "for feature,label in dataread:\n",
        "  features.append(feature)\n",
        "  labels.append(label)\n",
        "\n",
        "xtrain, xtest, ytrain, test = train_test_split(features,labels,test_size=0.25)"
      ],
      "execution_count": 11,
      "outputs": []
    },
    {
      "cell_type": "markdown",
      "metadata": {
        "id": "FZgjqPbTvG1j"
      },
      "source": [
        "#!!!!!!!!!!!Training the svm model!!!!!!!!!! using svm from sklearn"
      ]
    },
    {
      "cell_type": "code",
      "metadata": {
        "colab": {
          "base_uri": "https://localhost:8080/"
        },
        "id": "cy5NpVsOvOks",
        "outputId": "2e924521-a231-418b-f496-6fb7126acd04"
      },
      "source": [
        "from sklearn.svm import SVC\n",
        "\n",
        "model = SVC(C=10,kernel='poly', gamma='auto')\n",
        "model.fit(xtrain,ytrain)"
      ],
      "execution_count": 19,
      "outputs": [
        {
          "output_type": "execute_result",
          "data": {
            "text/plain": [
              "SVC(C=10, break_ties=False, cache_size=200, class_weight=None, coef0=0.0,\n",
              "    decision_function_shape='ovr', degree=3, gamma='auto', kernel='poly',\n",
              "    max_iter=-1, probability=False, random_state=None, shrinking=True,\n",
              "    tol=0.001, verbose=False)"
            ]
          },
          "metadata": {
            "tags": []
          },
          "execution_count": 19
        }
      ]
    },
    {
      "cell_type": "code",
      "metadata": {
        "colab": {
          "base_uri": "https://localhost:8080/"
        },
        "id": "dOyBVgVNvRsG",
        "outputId": "dcb94e94-e5f7-4f94-ef41-9bfa6041fdec"
      },
      "source": [
        "prediction = model.predict(xtest)\n",
        "\n",
        "accuracy = model.score(xtest,test)\n",
        "print(\"accuracy: \" ,accuracy) "
      ],
      "execution_count": 21,
      "outputs": [
        {
          "output_type": "stream",
          "text": [
            "accuracy:  0.5782608695652174\n"
          ],
          "name": "stdout"
        }
      ]
    },
    {
      "cell_type": "code",
      "metadata": {
        "colab": {
          "base_uri": "https://localhost:8080/",
          "height": 657
        },
        "id": "htighYnVRaMS",
        "outputId": "b3b2797f-e4f1-4e40-d3cc-626fc91687d6"
      },
      "source": [
        "from sklearn import svm, datasets\n",
        "from sklearn.model_selection import train_test_split\n",
        "from sklearn.metrics import plot_confusion_matrix\n",
        "\n",
        "titles_options = [(\"Confusion matrix, without normalization\", None),\n",
        "                  (\"Normalized confusion matrix\", 'true')]\n",
        "for title, normalize in titles_options:\n",
        "    disp = plot_confusion_matrix(model, xtest, test,\n",
        "                                 display_labels=labels,\n",
        "                                 cmap=plt.cm.Blues,\n",
        "                                 normalize=normalize)\n",
        "    disp.ax_.set_title(title)\n",
        "\n",
        "    print(title)\n",
        "    print(disp.confusion_matrix)\n",
        "\n",
        "plt.show()"
      ],
      "execution_count": 29,
      "outputs": [
        {
          "output_type": "stream",
          "text": [
            "Confusion matrix, without normalization\n",
            "[[134  89]\n",
            " [105 132]]\n",
            "Normalized confusion matrix\n",
            "[[0.60089686 0.39910314]\n",
            " [0.44303797 0.55696203]]\n"
          ],
          "name": "stdout"
        },
        {
          "output_type": "display_data",
          "data": {
            "image/png": "[encoded data removed]",
            "text/plain": [
              "<Figure size 432x288 with 2 Axes>"
            ]
          },
          "metadata": {
            "tags": [],
            "needs_background": "light"
          }
        },
        {
          "output_type": "display_data",
          "data": {
            "image/png": "[encoded data removed]",
            "text/plain": [
              "<Figure size 432x288 with 2 Axes>"
            ]
          },
          "metadata": {
            "tags": [],
            "needs_background": "light"
          }
        }
      ]
    },
    {
      "cell_type": "code",
      "metadata": {
        "colab": {
          "base_uri": "https://localhost:8080/"
        },
        "id": "O3O8qUDlSUKC",
        "outputId": "b76c158f-0620-4839-9b70-792f7c0f4977"
      },
      "source": [
        "from sklearn.model_selection import cross_val_predict\n",
        "ytrain_pred = cross_val_predict(model, xtrain, ytrain, cv=3)\n",
        "from sklearn.metrics import classification_report\n",
        " \n",
        "# # Constructing the confusion matrix.\n",
        "# from sklearn.metrics import confusion_matrix\n",
        "# confusion_matrix(ytrain, ytrain_pred)\n",
        "# from sklearn.metrics import precision_score, recall_score\n",
        "# precision_score(ytrain, ytrain_pred)\n",
        "# recall_score(ytrain, ytrain_pred)\n",
        "target_names = ['damage', 'nodamage']\n",
        "print(classification_report(ytrain, ytrain_pred, target_names=target_names))"
      ],
      "execution_count": 44,
      "outputs": [
        {
          "output_type": "stream",
          "text": [
            "              precision    recall  f1-score   support\n",
            "\n",
            "      damage       0.64      0.64      0.64       722\n",
            "    nodamage       0.60      0.60      0.60       658\n",
            "\n",
            "    accuracy                           0.62      1380\n",
            "   macro avg       0.62      0.62      0.62      1380\n",
            "weighted avg       0.62      0.62      0.62      1380\n",
            "\n"
          ],
          "name": "stdout"
        }
      ]
    },
    {
      "cell_type": "code",
      "metadata": {
        "colab": {
          "base_uri": "https://localhost:8080/",
          "height": 543
        },
        "id": "B8WTf37pv4UA",
        "outputId": "32768102-8234-4fc6-c717-2030841353d4"
      },
      "source": [
        "categories = ['damage','nodamage']\n",
        "print(\"Prediction is: \",categories[prediction[0]])\n",
        "\n",
        "grbg= xtest[0].reshape(16,16)\n",
        "plt.imshow(grbg,cmap=\"gray\")\n",
        "print(xtest[0])"
      ],
      "execution_count": 46,
      "outputs": [
        {
          "output_type": "stream",
          "text": [
            "Prediction is:  nodamage\n",
            "[ 20 239 118 117 117 110 109 106  99  96  94  92  94  94 105 123  34 213\n",
            " 180 216 212 218 190 203 230 229 221 214 200 183 175 202   6 226 170 129\n",
            " 171 191 171 124 217 224 226 151 171 165 172 180  12  79 103 160 188  90\n",
            " 132  51 102 109 104 179 160 165 124 216  22 220 233 139 192  95 107 196\n",
            " 181 205 209 148 151 144 198 185  57 222 132 138 182 201 114 223  77 204\n",
            " 208 131 141 241 253 175  84 199 200 182 150 138 188 163  53 190 173 122\n",
            " 116 168  42  53 105 125 153 209 234 178 173 122 139 138 132 128 100 148\n",
            "  44 213 104 106 110 114 117 189 212 225 237 159 163 150 141 142 198 200\n",
            " 114 110 100  95 100 103 102 108 134 203 206 198 195 191 191 188 122 129\n",
            " 145 123  96  90  79  89 104  80  98  99 105 110 123 138 127 129 137 132\n",
            "  32   9  40  73  78  75  75  79  89  88  95 100 139 137 126 117  34  21\n",
            "  10  12  42  36  76  70  66  66  70  74 124 123 114  69  32  30  22   8\n",
            "  16  19  13  24  44  41  40  56 121 133 110  67  47  26  34  40  20  16\n",
            "  14  11  16  23   4  13  98 120 101  62  61  48  50  36  37  27  29  28\n",
            "  27  54  37  39]\n"
          ],
          "name": "stdout"
        },
        {
          "output_type": "display_data",
          "data": {
            "image/png": "[encoded data removed]",
            "text/plain": [
              "<Figure size 432x288 with 1 Axes>"
            ]
          },
          "metadata": {
            "tags": [],
            "needs_background": "light"
          }
        }
      ]
    }
  ]
}